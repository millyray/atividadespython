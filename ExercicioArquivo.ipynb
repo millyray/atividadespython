{
 "cells": [
  {
   "cell_type": "markdown",
   "metadata": {},
   "source": [
    "# Trabalhando com arquivos"
   ]
  },
  {
   "cell_type": "markdown",
   "metadata": {},
   "source": [
    "A função chave para trabalho com arquivos é afunção **open()**\n",
    "\n",
    "A função **open()** recebe dois parametros\n",
    "\n",
    "- filename - o nome do arquivo\n",
    "- mode - modo de abertura\n",
    "\n",
    "Existem quatro modos de abertura (modes):\n",
    "\n",
    "\"r\" - Read - É o modo padrão. Abre um arquivo apenas para leitura e causa um erro caso o arquivo não exista\n",
    "\"a\" - Append - Abre um arquivo para acrescentar dados ao final, cria o arquvo se ele não existir\n",
    "\"w\" - Write - Abre um arquivo para escrita (ou para sobrescrever), cria o arquivo se ele não existir\n",
    "\"x\" - Create - Apenas cria o arquivo, mas não abre, causa um erro se o arquivo já existe\n",
    "\n",
    "Adicionalmente, você pode especificar se o arquivo é binário ou texto:\n",
    "\"t\" - Text - É o modo padrão, arquivo de texto\n",
    "\"b\" - Binary - Modo de arquivo binário (por exemplo: imagens)"
   ]
  },
  {
   "cell_type": "markdown",
   "metadata": {},
   "source": [
    "### Syntaxe"
   ]
  },
  {
   "cell_type": "markdown",
   "metadata": {},
   "source": [
    "Para abrir um arquivo de texto no modo de leitura, basta chamar a função diretamente usando o modo padrão..."
   ]
  },
  {
   "cell_type": "code",
   "execution_count": null,
   "metadata": {},
   "outputs": [],
   "source": [
    "f = open(\"meuarquivo.txt\")"
   ]
  },
  {
   "cell_type": "markdown",
   "metadata": {},
   "source": [
    "O codigo acima tem exatamente o mesmo efeito que:"
   ]
  },
  {
   "cell_type": "code",
   "execution_count": null,
   "metadata": {},
   "outputs": [],
   "source": [
    "f = open(\"meuarquivo.txt\", \"rt\")"
   ]
  },
  {
   "cell_type": "markdown",
   "metadata": {},
   "source": [
    "Porque \"r\" para leitura e \"t\" para texto são valores padrão, então você não precisa especificá-los."
   ]
  },
  {
   "cell_type": "markdown",
   "metadata": {},
   "source": [
    "### Leitura do arquivo"
   ]
  },
  {
   "cell_type": "markdown",
   "metadata": {},
   "source": [
    "Suponha que temos o seguinte arquivo, localizado na mesma pasta do Python:\n",
    "\n",
    "**meuarquivo.txt**\n",
    "\n",
    ">>> Bem vindo ao arquivo do segundo ano B, a turma onde não existe o medo...\n",
    ">>>     Alunos:\n",
    ">>>     Waldyr\n",
    ">>>     João Pedro\n",
    ">>>     Lara\n",
    ">>>     Giovana\n",
    ">>>     Wesley\n",
    "\n",
    "Para abrir o arquivo, você pode apenas usar a função integrada open().\n",
    "\n",
    "A função open() retorna um *objeto de arquivo*, que possui um método **read()** para ler o conteúdo do arquivo:\n",
    "você não precisa saber o que isso significa agora, mas saiba que pode usar isso da seguinte forma:\n",
    "\n",
    "```python\n",
    "objeto_arquivo = open(\"meuarquivo.txt\", \"r\")\n",
    "texto_arquivo = objeto_arquivo.read()\n",
    "print(texto_arquivo)\n",
    "```\n",
    "\n",
    "No código acima, você simplesmente recuperou o texto do arquivo em uma variável e usou o nosso conhecido metodo print para imprimir esse texto."
   ]
  },
  {
   "cell_type": "markdown",
   "metadata": {},
   "source": [
    "Se o arquivo estiver localizado em um local diferente, você terá que especificar o caminho do arquivo, assim:\n",
    "\n",
    "```Python\n",
    "f = open(\"D:\\\\meusarquivos\\outroarquivo.txt\", \"r\")\n",
    "print(f.read())\n",
    "```"
   ]
  },
  {
   "cell_type": "markdown",
   "metadata": {},
   "source": [
    "O *\"Objeto de arquivo\"* tambem tem um *\"método\"* chamado **readline()**, esse metodo permite ler uma unica linha do arquivo e já mover o cursor de leitura para a proxima linha, então você pode invocar esse método várias vezes para ler todas as linhas do arquivo, isso é interessante quando você quer trabalhar os dados da linha antes de ler a proxima."
   ]
  },
  {
   "cell_type": "code",
   "execution_count": null,
   "metadata": {},
   "outputs": [],
   "source": [
    "f = open(\"meuarquivo.txt\", \"r\")\n",
    "print(f.readline()) #imprimindo a linha 1, se existir\n",
    "print(f.readline()) #imprimindo a linha 2, se existir"
   ]
  },
  {
   "cell_type": "markdown",
   "metadata": {},
   "source": [
    "Tambem é possivel percorrer o arquivo como se fosse uma lista, recuperando todas as suas linhas..."
   ]
  },
  {
   "cell_type": "code",
   "execution_count": null,
   "metadata": {},
   "outputs": [],
   "source": [
    "arquivo = open(\"meuarquivo.txt\", \"r\")\n",
    "for linha in arquivo:\n",
    "  print(linha)"
   ]
  },
  {
   "cell_type": "markdown",
   "metadata": {},
   "source": [
    "### Fechar o arquivo\n",
    "\n",
    "Sempre, sempre, sempre sempre sempre feche os seus arquivos...\n",
    "os dados alterados só serão salvos caso o arquivo seja fechado, e o arquivo só pode ser manipulado pelo sistema operacional ou aberto por outros softwares se ele estiver fechado."
   ]
  },
  {
   "cell_type": "code",
   "execution_count": null,
   "metadata": {},
   "outputs": [],
   "source": [
    "arquivo.close()"
   ]
  },
  {
   "cell_type": "markdown",
   "metadata": {},
   "source": [
    "### Gravar em um arquivo existente\n",
    "Para gravar em um arquivo existente, você deve adicionar um parâmetro de modo à função open():"
   ]
  },
  {
   "cell_type": "code",
   "execution_count": null,
   "metadata": {},
   "outputs": [],
   "source": [
    "f = open(\"meuarquivo.txt\", \"a\")\n",
    "f.write(\"Agora vamos escrever mais coisas\\n\")\n",
    "f.write(\"Marques\\n\")\n",
    "f.write(\"Pereira\\n\")\n",
    "f.write(\"Henrique\\n\")\n",
    "f.write(\"Nicole\\n\")\n",
    "\n",
    "f.close()\n",
    "\n",
    "#Agora a gente abre novamente só pra ler e ter certeza que salvou:\n",
    "f = open(\"meuarquivo.txt\", \"r\")\n",
    "print(f.read())\n",
    "f.close()"
   ]
  },
  {
   "cell_type": "markdown",
   "metadata": {},
   "source": [
    "Baseado no conteudo acima, escreva um programa em python que leia um arquivo chamado ***\"Alunos.txt\"*** com alunos e notas, e crie dois novos arquivos ***\"Aprovados.txt\"*** e ***\"Reprovados.txt\"*** de acordo com as suas notas..."
   ]
  },
  {
   "cell_type": "code",
   "execution_count": 1,
   "metadata": {},
   "outputs": [
    {
     "name": "stdout",
     "output_type": "stream",
     "text": [
      "Marques\n",
      "10\n"
     ]
    }
   ],
   "source": [
    "#Dica, você consegue separar valores dentro de um texto usando o metodo split()\n",
    "#Esse metodo recebe um caractere e separa uma string em uma lista de strings\n",
    "#quebrando a cadeia de caracteres toda vez que ele encontrar o separador\n",
    "alunonota = \"Marques    :    10\"\n",
    "nome = alunonota.split(\":\")[0].strip()\n",
    "nota = alunonota.split(\":\")[1].strip()\n",
    "print(nome)\n",
    "print(nota)"
   ]
  },
  {
   "cell_type": "code",
   "execution_count": null,
   "metadata": {},
   "outputs": [],
   "source": [
    "\n",
    "#Emilly Rayssa\n",
    "\n",
    "f=open(\"alunos.txt\", \"x\")\n",
    "f.write(\"Raissa : 10.0 \\n\")\n",
    "f.write(\"Vitória : 5.0 \\n\")\n",
    "f.write(\"Vitor : 7.0 \\n\")\n",
    "f.write(\"Gabriel : 8.0 \\n\")\n",
    "f.write(\"Arthur : 3.7 \\n\")\n",
    "f.write(\"Sofia : 2.5 \\n\")\n",
    "\n",
    "f.close()\n",
    "\n",
    "with open(\"alunos.txt\", \"r\") as f:\n",
    "    with open(\"aprovados.txt\", \"w\") as arquivo_aprovados, open(\"reprovados.txt\", \"w\") as arquivo_reprovados:\n",
    "        for linha in f:\n",
    "            nome, nota_str = linha.strip().split(\":\")\n",
    "            nota = float(nota_str)\n",
    "\n",
    "            if nota >= 6.0:\n",
    "                arquivo_aprovados.write(f\"{nome}: {nota}\\n\")\n",
    "            else:\n",
    "                arquivo_reprovados.write(f\"{nome}: {nota}\\n\")"
   ]
  }
 ],
 "metadata": {
  "kernelspec": {
   "display_name": "Python 3",
   "language": "python",
   "name": "python3"
  },
  "language_info": {
   "codemirror_mode": {
    "name": "ipython",
    "version": 3
   },
   "file_extension": ".py",
   "mimetype": "text/x-python",
   "name": "python",
   "nbconvert_exporter": "python",
   "pygments_lexer": "ipython3",
   "version": "3.11.4"
  },
  "orig_nbformat": 4
 },
 "nbformat": 4,
 "nbformat_minor": 2
}
