{
  "cells": [
    {
      "cell_type": "markdown",
      "metadata": {
        "id": "DVEozxMjq4qT"
      },
      "source": [
        "## Introduzindo Operações Básicas com Tipos Numéricos e Booleanos"
      ]
    },
    {
      "cell_type": "markdown",
      "metadata": {
        "id": "k3RWYbNB5clO"
      },
      "source": [
        "1 - Compute a saída da seguinte expressão matemática sem realizar nenhuma simplificação:\n",
        "$ a^{2} + \\frac{3}{4} \\times b \\times 987(c - \\frac{10^{-9}}{\\sqrt{0.5^{3}}}) $. Assuma que os valores das variáveis a, b e c correpondam a 2, 4 e 8, respectivamente. Armazene o resultado em uma variável.\n",
        "\n",
        "Dica: consulte os operadores aritméticos disponíveis no Python. Utilize a biblioteca math para operação de raiz."
      ]
    },
    {
      "cell_type": "code",
      "execution_count": 2,
      "metadata": {
        "collapsed": true,
        "id": "Y6UcwvJw57MC"
      },
      "outputs": [
        {
          "name": "stdout",
          "output_type": "stream",
          "text": [
            "23691.999991625027\n"
          ]
        }
      ],
      "source": [
        "# Insira a resposta abaixo.\n",
        "\n",
        "import math\n",
        "\n",
        "a = 2\n",
        "b = 4\n",
        "c = 8\n",
        "\n",
        "resultado = a**2 + 3/4 * b * 987 *( c - 10**-9/math.sqrt(0.5**3))\n",
        "print (resultado)"
      ]
    },
    {
      "cell_type": "markdown",
      "metadata": {
        "id": "YTUAjlIWVM6C"
      },
      "source": [
        "2 - Armazene em uma variável o resto da divisão da expressão anterior por 23691."
      ]
    },
    {
      "cell_type": "code",
      "execution_count": 3,
      "metadata": {
        "collapsed": true,
        "id": "hPB1-d0GVM_9"
      },
      "outputs": [
        {
          "name": "stdout",
          "output_type": "stream",
          "text": [
            "0.9999916250271781\n"
          ]
        }
      ],
      "source": [
        "# Insira a resposta abaixo.\n",
        "\n",
        "resto = resultado % 23691\n",
        "\n",
        "print (resto)"
      ]
    },
    {
      "cell_type": "markdown",
      "metadata": {
        "id": "Xddy2CmgIqzJ"
      },
      "source": [
        "3 - Cheque se a saída do resto da divisão é\n",
        "\n",
        "***i) igual a 1***\n",
        "\n",
        "***ii) maior que 1***\n",
        "\n",
        "***iii) menor ou igual que 1***\n",
        "\n",
        "***iv) diferente de 1***\n",
        "\n",
        "Utilize a função *print* para exibir a saída de cada checagem.\n",
        "Consulte os operadores relacionais disponívels no Python."
      ]
    },
    {
      "cell_type": "code",
      "execution_count": 4,
      "metadata": {
        "collapsed": true,
        "id": "HfNOkdqdJMVG"
      },
      "outputs": [
        {
          "name": "stdout",
          "output_type": "stream",
          "text": [
            "O resto da operação é menor ou igual a 1\n",
            "O resto da operação é diferente de 1\n"
          ]
        }
      ],
      "source": [
        "# Insira a resposta abaixo.\n",
        "\n",
        "if resto == 1:\n",
        "    print ( \"O resto da operação é igual a 1\" )\n",
        "\n",
        "if resto > 1:\n",
        "    print ( \"O resto da operação é maior que 1\" )\n",
        "\n",
        "if resto <= 1:\n",
        "    print ( \"O resto da operação é menor ou igual a 1\" )\n",
        "\n",
        "if resto != 1:\n",
        "   print( \"O resto da operação é diferente de 1\" ) \n"
      ]
    },
    {
      "cell_type": "markdown",
      "metadata": {
        "id": "lqXrELgV-qoc"
      },
      "source": [
        "4 - Exiba a saída de operações booleanas do tipo **AND** e do tipo **OR** entre dois termos que apresentem valores:\n",
        "1. **verdadeiros**;\n",
        "2. **verdadeiro e falso**;\n",
        "3. **falsos**.\n",
        "\n",
        "Ao todo devem ser apresentadas seis operações."
      ]
    },
    {
      "cell_type": "code",
      "execution_count": 6,
      "metadata": {
        "collapsed": true,
        "id": "iwYPHG8zAzEx"
      },
      "outputs": [
        {
          "name": "stdout",
          "output_type": "stream",
          "text": [
            "True\n",
            "False\n",
            "False\n",
            "True\n",
            "True\n",
            "False\n"
          ]
        }
      ],
      "source": [
        "# Insira a resposta abaixo.\n",
        "x = True\n",
        "y = False\n",
        "\n",
        "resultado1 = x and x\n",
        "resultado2 = x and y\n",
        "resultado3 = y and y\n",
        "\n",
        "resultado4 = x or x\n",
        "resultado5 = x or y\n",
        "resultado6 = y or y\n",
        "\n",
        "print ( resultado1 )\n",
        "print ( resultado2 )\n",
        "print ( resultado3 )\n",
        "print ( resultado4 )\n",
        "print ( resultado5 )\n",
        "print ( resultado6 )"
      ]
    },
    {
      "cell_type": "markdown",
      "metadata": {
        "id": "OhCPDEUc6INz"
      },
      "source": [
        "5 - Escreva a seguinte expressão booleana **(A + B) . (¬B . A)**. Considere que \"+\" indica uma operação  OR; \".\" indica uma operação AND e ''¬'' indica uma operação de negação (NOT). Defina previamente a variávei *A* com valor verdadeiro e a variávei *B* com valor falso."
      ]
    },
    {
      "cell_type": "code",
      "execution_count": 7,
      "metadata": {
        "collapsed": true,
        "id": "uDy9e_grMP2m"
      },
      "outputs": [
        {
          "name": "stdout",
          "output_type": "stream",
          "text": [
            " O resultado da expressão é: True\n"
          ]
        }
      ],
      "source": [
        "# Insira a resposta abaixo.\n",
        "\n",
        "A = True\n",
        "B = False\n",
        "\n",
        "expressao = ( A or B ) and ( not B and A)\n",
        "print ( \" O resultado da expressão é:\", expressao )"
      ]
    },
    {
      "cell_type": "markdown",
      "metadata": {
        "id": "WrAa05rZ-qxj"
      },
      "source": [
        "6 - Cheque se a saída da expressão booleana da questão imediatamente anterior é falsa."
      ]
    },
    {
      "cell_type": "code",
      "execution_count": 8,
      "metadata": {
        "collapsed": true,
        "id": "vJY1q4-_0X6B"
      },
      "outputs": [
        {
          "name": "stdout",
          "output_type": "stream",
          "text": [
            "A expressão não é falsa.\n"
          ]
        }
      ],
      "source": [
        "# Insira a resposta abaixo.\n",
        "\n",
        "A = True\n",
        "B = False\n",
        "\n",
        "expressao = ( A or B ) and ( not B and A)\n",
        "\n",
        "if expressao is False:\n",
        "    print(\"A expressão é falsa.\")\n",
        "else:\n",
        "    print(\"A expressão não é falsa.\")"
      ]
    },
    {
      "cell_type": "markdown",
      "metadata": {
        "id": "WqIZVzrCpuqp"
      },
      "source": [
        "## Introduzindo Operações com Strings\n",
        "\n",
        "Dica: você pode utilizar a função *help(arg)* para visualizar os métodos que podem ser acessados a partir de uma variável de um tipo qualquer.\n",
        "\n",
        "Segue abaixo alguns exemplos:\n",
        "\n",
        "```\n",
        "# Exemplo usando como argumento a função que representa o tipo de dado\n",
        "help(str)\n",
        "\n",
        "# Exemplo usando uma variavel qualquer\n",
        "a = \"teste\"\n",
        "help(a)\n",
        "\n",
        "# Exemplo utilizando uma variavel do tipo dicionário\n",
        "dicionario = {\"chave\":\"valor\"}\n",
        "help(dicionario)\n",
        "\n",
        "```\n",
        "\n"
      ]
    },
    {
      "cell_type": "markdown",
      "metadata": {
        "id": "V_Du1ew3MXy8"
      },
      "source": [
        "7 - Defina uma variável com o valor \"hello wORld\". Utilize as funções de string do Python para reproduzir as seguintes saídas: \"Hello World\", \"hello world\", \"HELLO WORLD\".  Dica: para visualizar as funções disponíveis digite em uma célula de código `'str' ` e em seguida tecle tab.\n"
      ]
    },
    {
      "cell_type": "code",
      "execution_count": 9,
      "metadata": {
        "collapsed": true,
        "id": "tRPJVsT0tbsh"
      },
      "outputs": [
        {
          "name": "stdout",
          "output_type": "stream",
          "text": [
            "Hello World\n",
            "hello world\n",
            "HELLO WORLD\n"
          ]
        }
      ],
      "source": [
        "# Insira a resposta abaixo.\n",
        "\n",
        "a = \"hello wORld\"\n",
        "\n",
        "x = a.title()\n",
        "y = a.lower()\n",
        "z = a.upper()\n",
        "\n",
        "print (x)\n",
        "print (y)\n",
        "print (z)"
      ]
    },
    {
      "cell_type": "markdown",
      "metadata": {
        "id": "-x6qgUMjN4Po"
      },
      "source": [
        "8 - Dada a seguinte frase \" *Esse é o seu primeiro tweet.* \", remova os espaços em branco das extremidades. Em seguida, substitua a palavra *'primeiro'* por *'segundo'*.\n",
        "\n",
        "\n",
        "\n",
        "**Observação:** a operação para remoção de espaços não atua em um modo '*in-place*', isto é, não altera diretamente o objeto, apenas retorna uma cópia modificada que pode ser armazenada em uma variável. A seguir, pode-se conferir um exemplo de uma operação que não é in-place e requer que assinalemos uma variável para receber a modificação."
      ]
    },
    {
      "cell_type": "code",
      "execution_count": 14,
      "metadata": {
        "collapsed": true,
        "id": "j-5VN4jTy3vn"
      },
      "outputs": [
        {
          "name": "stdout",
          "output_type": "stream",
          "text": [
            "testa\n"
          ]
        }
      ],
      "source": [
        "# EXEMPLO: operação que não atua em modo 'in-place'\n",
        "\n",
        "a = 'teste'\n",
        "\n",
        "# primeiro caso\n",
        "a.replace('ste', 'sta')\n",
        "print(a)\n",
        "\n",
        "# segundo caso\n",
        "a = a.replace('ste', 'sta')\n",
        "print(a)"
      ]
    },
    {
      "cell_type": "code",
      "execution_count": 18,
      "metadata": {
        "collapsed": true,
        "id": "FStrq8MgO-w1"
      },
      "outputs": [
        {
          "name": "stdout",
          "output_type": "stream",
          "text": [
            "Esse é o seu primeiro tweet.\n",
            "Esse é o seu segundo tweet.\n"
          ]
        }
      ],
      "source": [
        "# Insira a resposta abaixo.\n",
        "\n",
        "a = \" Esse é o seu primeiro tweet. \"\n",
        "a2 = a.strip()\n",
        "\n",
        "a2.replace('primeiro', 'segundo')\n",
        "print (a2)\n",
        "\n",
        "b = a2.replace ( 'primeiro', 'segundo')\n",
        "print (b)"
      ]
    },
    {
      "cell_type": "markdown",
      "metadata": {
        "id": "-hy5Hx4mjKpZ"
      },
      "source": [
        "9 - Fazendo uso do resultado da questão anterior, exiba a quantidade de ocorrências da palavra *'segundo'* e em seguida a quantidade de caracteres *'s'*."
      ]
    },
    {
      "cell_type": "code",
      "execution_count": 27,
      "metadata": {
        "collapsed": true,
        "id": "2bqwnWxo2brg"
      },
      "outputs": [
        {
          "name": "stdout",
          "output_type": "stream",
          "text": [
            "Quantidade de ocorrências da palavra 'segundo': 1\n",
            "Quantidade de caracteres 's': 4\n"
          ]
        }
      ],
      "source": [
        "# Insira a resposta abaixo.\n",
        "\n",
        "a = \"Esse é o seu segundo tweet.\"\n",
        "\n",
        "b = a.count ( \"segundo\" )\n",
        "c = a.count ( \"s\" )\n",
        "\n",
        "print ( \"Quantidade de ocorrências da palavra 'segundo':\", b )\n",
        "print ( \"Quantidade de caracteres 's':\", c )"
      ]
    },
    {
      "cell_type": "markdown",
      "metadata": {
        "id": "Ah4Io41N3q5w"
      },
      "source": [
        "10 - Concatene duas variáveis do tipo strings com valores arbitrários e exiba o resultado.\n",
        "\n",
        "**Observação:** A string resultante deve possuir no mínimo quatro caracteres."
      ]
    },
    {
      "cell_type": "code",
      "execution_count": 29,
      "metadata": {
        "collapsed": true,
        "id": "VQklMBD-2agi"
      },
      "outputs": [
        {
          "name": "stdout",
          "output_type": "stream",
          "text": [
            "Tudo bem?\n"
          ]
        }
      ],
      "source": [
        "# Insira a resposta abaixo.\n",
        "\n",
        "a1 = \"Tudo \"\n",
        "a2 = \"bem?\"\n",
        "\n",
        "print ( a1 + a2 )"
      ]
    },
    {
      "cell_type": "markdown",
      "metadata": {
        "id": "-8Oy9MrNDJPV"
      },
      "source": [
        "11 - Utilize a indexação e exiba apenas do segundo ao quarto caractere da variável do tipo string resultante questão imediatamente anterior."
      ]
    },
    {
      "cell_type": "code",
      "execution_count": 31,
      "metadata": {
        "collapsed": true,
        "id": "1qQLmrNrDXmM"
      },
      "outputs": [
        {
          "name": "stdout",
          "output_type": "stream",
          "text": [
            "udo\n"
          ]
        }
      ],
      "source": [
        "# Insira a resposta abaixo.\n",
        "\n",
        "a = \"Tudo bem?\"\n",
        "\n",
        "b = a [ 1:4 ]\n",
        "print (b)"
      ]
    },
    {
      "cell_type": "markdown",
      "metadata": {
        "id": "KsBiozVOxEEF"
      },
      "source": [
        "12 - Exiba a string \"Mensagem: \" seguida pela string armazenada na variável *msg* definida abaixo. Dica: utilize a função format()."
      ]
    },
    {
      "cell_type": "code",
      "execution_count": 32,
      "metadata": {
        "collapsed": true,
        "id": "nRqtTDFTxDuL"
      },
      "outputs": [
        {
          "name": "stdout",
          "output_type": "stream",
          "text": [
            "Mensagem: This is your first tweet.\n"
          ]
        }
      ],
      "source": [
        "msg = \"This is your first tweet.\"\n",
        "# Insira a resposta abaixo.\n",
        "\n",
        "print ( \"Mensagem: {}\".format(msg) )"
      ]
    },
    {
      "cell_type": "markdown",
      "metadata": {
        "id": "6afUv7-Q8XRT"
      },
      "source": [
        "13  - Reproduza as próximas três mensagens a partir das variáveis definidas na célula de código."
      ]
    },
    {
      "cell_type": "markdown",
      "metadata": {
        "id": "j4__WoXI_XGe"
      },
      "source": [
        "**Mensagem**: Definir uma string com três aspas simples permite construir textos com quebra de linha automática."
      ]
    },
    {
      "cell_type": "code",
      "execution_count": 35,
      "metadata": {
        "collapsed": true,
        "id": "Iluu-cdN_WSD"
      },
      "outputs": [
        {
          "name": "stdout",
          "output_type": "stream",
          "text": [
            "Definir uma string com três aspas simples permite construir textos com quebra de linha automática\n"
          ]
        }
      ],
      "source": [
        "tipo_var = \"string\"\n",
        "qtd = \"três\"\n",
        "\n",
        "# Insira a resposta abaixo.\n",
        "\n",
        "print ( \"Definir uma\", tipo_var, \"com\", qtd, \"aspas simples permite construir textos com quebra de linha automática\" )"
      ]
    },
    {
      "cell_type": "markdown",
      "metadata": {
        "id": "9bj-p6aVAYSF"
      },
      "source": [
        "**Mensagem**:  O número pi é aproximadamente 3.14"
      ]
    },
    {
      "cell_type": "code",
      "execution_count": 38,
      "metadata": {
        "collapsed": true,
        "id": "cUJ1s40-8UIu"
      },
      "outputs": [
        {
          "name": "stdout",
          "output_type": "stream",
          "text": [
            "O número 3.14159 é aproximadamente 3.14\n"
          ]
        }
      ],
      "source": [
        "pi = 3.14159\n",
        "# Insira a resposta abaixo.\n",
        "\n",
        "print ( \"O número\", pi, \"é aproximadamente 3.14\" )"
      ]
    },
    {
      "cell_type": "markdown",
      "metadata": {
        "id": "pkdZ39rrhx4q"
      },
      "source": [
        "**Mensagem**: O meu nome é [*receber string via input*] e eu tenho [*receber inteiro via input*] anos."
      ]
    },
    {
      "cell_type": "code",
      "execution_count": 7,
      "metadata": {
        "collapsed": true,
        "id": "8ukjvm0ghyD1"
      },
      "outputs": [
        {
          "ename": "ValueError",
          "evalue": "invalid literal for int() with base 10: ''",
          "output_type": "error",
          "traceback": [
            "\u001b[1;31m---------------------------------------------------------------------------\u001b[0m",
            "\u001b[1;31mValueError\u001b[0m                                Traceback (most recent call last)",
            "Cell \u001b[1;32mIn[7], line 4\u001b[0m\n\u001b[0;32m      1\u001b[0m \u001b[39m# Insira a resposta abaixo.\u001b[39;00m\n\u001b[0;32m      3\u001b[0m nome \u001b[39m=\u001b[39m \u001b[39minput\u001b[39m(\u001b[39m\"\u001b[39m\u001b[39mDigite o seu nome: \u001b[39m\u001b[39m\"\u001b[39m)\n\u001b[1;32m----> 4\u001b[0m idade \u001b[39m=\u001b[39m \u001b[39mint\u001b[39;49m(\u001b[39minput\u001b[39;49m(\u001b[39m\"\u001b[39;49m\u001b[39mDigite a sua idade: \u001b[39;49m\u001b[39m\"\u001b[39;49m))\n\u001b[0;32m      5\u001b[0m mensagem3 \u001b[39m=\u001b[39m \u001b[39mf\u001b[39m\u001b[39m\"\u001b[39m\u001b[39mO meu nome é \u001b[39m\u001b[39m{\u001b[39;00mnome\u001b[39m}\u001b[39;00m\u001b[39m e eu tenho \u001b[39m\u001b[39m{\u001b[39;00midade\u001b[39m}\u001b[39;00m\u001b[39m anos.\u001b[39m\u001b[39m\"\u001b[39m\n\u001b[0;32m      7\u001b[0m \u001b[39mprint\u001b[39m (\u001b[39m\"\u001b[39m\u001b[39mMensagem 3:\u001b[39m\u001b[39m\"\u001b[39m, mensagem3)\n",
            "\u001b[1;31mValueError\u001b[0m: invalid literal for int() with base 10: ''"
          ]
        }
      ],
      "source": [
        "# Insira a resposta abaixo.\n",
        "\n",
        "nome = input(\"Digite o seu nome: \")\n",
        "idade = int(input(\"Digite a sua idade: \"))\n",
        "mensagem3 = f\"O meu nome é {nome} e eu tenho {idade} anos.\"\n",
        "\n",
        "print (\"Mensagem 3:\", mensagem3)"
      ]
    },
    {
      "cell_type": "markdown",
      "metadata": {
        "id": "WKfYhv8Cqr4u"
      },
      "source": [
        "## Introduzindo Estruturas de Dados\n",
        "\n",
        "Nessa sessão serão exploradas as estruturas de dados do tipo lista, tupla e dicionário. Para realizar os exercícios abaixos baseados em listas podem ser utilizados métodos como *sum(arg), extend(), reverse(), append(), insert(index, element), sort()*."
      ]
    },
    {
      "cell_type": "markdown",
      "metadata": {
        "id": "jdd5yFSNrljL"
      },
      "source": [
        "### Listas"
      ]
    },
    {
      "cell_type": "markdown",
      "metadata": {
        "id": "NUOrqskrkZdF"
      },
      "source": [
        "14 - Realize as seguintes operações:\n",
        "\n",
        "\n",
        "1. Crie uma lista vazia.\n",
        "2. Adicione três elementos do tipo inteiro ao final da lista (*o método para adição de novos elementos em uma lista atua de forma in-place, portanto, basta invocá-lo.*).\n",
        "3. Adicione um novo elemento na segunda posição da lista (*método in-place).\n",
        "4. Exiba a soma dos quatro elementos (*python já possui uma função built-in para esssa operação*.)\n",
        "5. Re-assinale o elemento da terceiro posição com um valor do tipo float.\n",
        "6. Repita o passo 4.\n",
        "7. Inverta os elementos da lista atual. (*função para inversão é in-place*)\n",
        "8. Re-ordene os elementos da lista.\n",
        "9. Armazene uma nova lista em uma variável qualquer com 2 números inteiros.\n",
        "10. Concatena a nova lista criada com a lista resultante do passo 7.\n",
        "11. Exiba o valor máximo e mínimo da resultante do passo anterior.\n"
      ]
    },
    {
      "cell_type": "code",
      "execution_count": 2,
      "metadata": {
        "collapsed": true,
        "id": "ImQcVWN9lupe"
      },
      "outputs": [
        {
          "name": "stdout",
          "output_type": "stream",
          "text": [
            "soma dos elementos: 154\n",
            "soma dos elementos:  140.6\n",
            "lista resultante: [24, 30, 40, 46.6, 6, 36]\n",
            "valor máximo: 46.6\n",
            "valor mínimo: 6\n"
          ]
        }
      ],
      "source": [
        "# Insira a resposta abaixo.\n",
        "#1\n",
        "lista = []\n",
        "\n",
        "#2\n",
        "lista.append(40)\n",
        "lista.append(30)\n",
        "lista.append(60)\n",
        "\n",
        "#3\n",
        "lista.insert(4, 24)\n",
        "\n",
        "#4\n",
        "soma = sum(lista)\n",
        "print(\"soma dos elementos:\", soma)\n",
        "\n",
        "#5\n",
        "lista[2] = 46.6\n",
        "\n",
        "#6\n",
        "soma = sum(lista)\n",
        "print(\"soma dos elementos: \", soma)\n",
        "\n",
        "#7\n",
        "lista.reverse()\n",
        "\n",
        "#8\n",
        "lista.sort()\n",
        "\n",
        "#9\n",
        "nova_lista = [6, 36]\n",
        "\n",
        "#10\n",
        "lista.extend(nova_lista)\n",
        "\n",
        "#11\n",
        "valor_Maximo = max(lista)\n",
        "valor_Minimo = min(lista)\n",
        "\n",
        "print(\"lista resultante:\", lista)\n",
        "print(\"valor máximo:\", valor_Maximo)\n",
        "print(\"valor mínimo:\", valor_Minimo )\n"
      ]
    },
    {
      "cell_type": "markdown",
      "metadata": {
        "id": "0Z5yLIA2hDW3"
      },
      "source": [
        "15 - Converta a string definida abaixo em uma lista de palavras, armazene a lista em uma variável. Dica: cheque as operações disponíveis para strings."
      ]
    },
    {
      "cell_type": "code",
      "execution_count": 3,
      "metadata": {
        "collapsed": true,
        "id": "ZBsyU1D7hDfA"
      },
      "outputs": [
        {
          "name": "stdout",
          "output_type": "stream",
          "text": [
            "['Formação', 'de', 'Recursos', 'Humanos', 'Qualificados', 'em', 'Inteligência', 'Artificial']\n"
          ]
        }
      ],
      "source": [
        "frase = \"Formação de Recursos Humanos Qualificados em Inteligência Artificial\"\n",
        "\n",
        "# Insira a resposta abaixo.\n",
        "frase =  \"Formação de Recursos Humanos Qualificados em Inteligência Artificial\"\n",
        "lista_de_palavras = frase.split()\n",
        "print(lista_de_palavras)"
      ]
    },
    {
      "cell_type": "markdown",
      "metadata": {
        "id": "Ty3XskmQl95g"
      },
      "source": [
        "16 - Verifique se a palavra \"Humanos\" está contida na lista de palavras criada anteriormente. Exiba True ou False para indicar a resposta."
      ]
    },
    {
      "cell_type": "code",
      "execution_count": 4,
      "metadata": {
        "collapsed": true,
        "id": "qHQtRHw7l9_q"
      },
      "outputs": [
        {
          "name": "stdout",
          "output_type": "stream",
          "text": [
            "True\n"
          ]
        }
      ],
      "source": [
        "# Insira a resposta abaixo.\n",
        "verificacao = \"Humanos\" in lista_de_palavras\n",
        "print(verificacao)\n"
      ]
    },
    {
      "cell_type": "markdown",
      "metadata": {
        "id": "GJVq-7Fzo0Xo"
      },
      "source": [
        "17 - Crie automaticamente uma lista contendo 50 elementos de valor 3 e armazene-a em uma variável. Dica: utilize o operador de multiplicação."
      ]
    },
    {
      "cell_type": "code",
      "execution_count": 5,
      "metadata": {
        "collapsed": true,
        "id": "dORyLchqo0fE"
      },
      "outputs": [
        {
          "name": "stdout",
          "output_type": "stream",
          "text": [
            "[3, 3, 3, 3, 3, 3, 3, 3, 3, 3, 3, 3, 3, 3, 3, 3, 3, 3, 3, 3, 3, 3, 3, 3, 3, 3, 3, 3, 3, 3, 3, 3, 3, 3, 3, 3, 3, 3, 3, 3, 3, 3, 3, 3, 3, 3, 3, 3, 3, 3]\n"
          ]
        }
      ],
      "source": [
        "# Insira a resposta abaixo.\n",
        "lista = [3]*50\n",
        "print(lista)"
      ]
    },
    {
      "cell_type": "markdown",
      "metadata": {
        "id": "tjXYlf9drhd-"
      },
      "source": [
        "### Tuplas"
      ]
    },
    {
      "cell_type": "markdown",
      "metadata": {
        "id": "mK1S6LhTx8NT"
      },
      "source": [
        "18 - Converta a lista resultante da primeira questão sobre Listas para uma tupla e exiba o tipo de dados do objeto criado. Após realizar o casting, utilize a indexação para exibir todos os elementos com exceção do primeiro e último."
      ]
    },
    {
      "cell_type": "code",
      "execution_count": 6,
      "metadata": {
        "collapsed": true,
        "id": "VRRDYbbAx7ti"
      },
      "outputs": [
        {
          "name": "stdout",
          "output_type": "stream",
          "text": [
            "tipo de dados da tupla: <class 'tuple'>\n",
            "elementos intermediários: (3, 3, 3, 3, 3, 3, 3, 3, 3, 3, 3, 3, 3, 3, 3, 3, 3, 3, 3, 3, 3, 3, 3, 3, 3, 3, 3, 3, 3, 3, 3, 3, 3, 3, 3, 3, 3, 3, 3, 3, 3, 3, 3, 3, 3, 3)\n"
          ]
        }
      ],
      "source": [
        "#Insira a resposta abaixo.\n",
        "tupla = tuple(lista)\n",
        "print(\"tipo de dados da tupla:\", type(tupla))\n",
        "elementos = tupla[2:-2]\n",
        "print(\"elementos intermediários:\", elementos)"
      ]
    },
    {
      "cell_type": "markdown",
      "metadata": {
        "id": "ItO6S8D2_FlO"
      },
      "source": [
        "19 - Exiba os atributos/métodos disponíveis a partir objetos do tipo lista e tuple utilizados na questão anterior. Dica: utilize o método dir."
      ]
    },
    {
      "cell_type": "code",
      "execution_count": 7,
      "metadata": {
        "collapsed": true,
        "id": "eZ-QZUaq_Fr4"
      },
      "outputs": [
        {
          "name": "stdout",
          "output_type": "stream",
          "text": [
            " atributos/métodos disponíveis para tuplas:\n",
            "['__add__', '__class__', '__class_getitem__', '__contains__', '__delattr__', '__delitem__', '__dir__', '__doc__', '__eq__', '__format__', '__ge__', '__getattribute__', '__getitem__', '__getstate__', '__gt__', '__hash__', '__iadd__', '__imul__', '__init__', '__init_subclass__', '__iter__', '__le__', '__len__', '__lt__', '__mul__', '__ne__', '__new__', '__reduce__', '__reduce_ex__', '__repr__', '__reversed__', '__rmul__', '__setattr__', '__setitem__', '__sizeof__', '__str__', '__subclasshook__', 'append', 'clear', 'copy', 'count', 'extend', 'index', 'insert', 'pop', 'remove', 'reverse', 'sort']\n",
            "\n",
            " atributo/métodos disponíveis para tuplas: \n",
            "['__add__', '__class__', '__class_getitem__', '__contains__', '__delattr__', '__dir__', '__doc__', '__eq__', '__format__', '__ge__', '__getattribute__', '__getitem__', '__getnewargs__', '__getstate__', '__gt__', '__hash__', '__init__', '__init_subclass__', '__iter__', '__le__', '__len__', '__lt__', '__mul__', '__ne__', '__new__', '__reduce__', '__reduce_ex__', '__repr__', '__rmul__', '__setattr__', '__sizeof__', '__str__', '__subclasshook__', 'count', 'index']\n"
          ]
        }
      ],
      "source": [
        "# Insira a resposta abaixo.\n",
        "print(\" atributos/métodos disponíveis para tuplas:\")\n",
        "print(dir(list))\n",
        "\n",
        "print(\"\\n atributo/métodos disponíveis para tuplas: \")\n",
        "print(dir(tuple))"
      ]
    },
    {
      "cell_type": "code",
      "execution_count": 23,
      "metadata": {
        "collapsed": true,
        "id": "wl4zuiW8lupj"
      },
      "outputs": [],
      "source": [
        "# Insira a resposta abaixo.\n"
      ]
    },
    {
      "cell_type": "markdown",
      "metadata": {
        "id": "T5fFEifblupk"
      },
      "source": [
        "20 - Crie uma tupla contendo 5 números inteiros quaisquer. Em seguida, exiba o valor máximo e o valor mínimo da tupla criada."
      ]
    },
    {
      "cell_type": "code",
      "execution_count": 8,
      "metadata": {
        "collapsed": true,
        "id": "vmdJcxa6lupk"
      },
      "outputs": [
        {
          "name": "stdout",
          "output_type": "stream",
          "text": [
            "valor maximo da tupla: 90\n",
            "valor minimo da tupla: 7\n"
          ]
        }
      ],
      "source": [
        "# Insira a resposta abaixo.\n",
        "tupla = (30, 7, 90, 16, 86)\n",
        "valor_Maximo = max(tupla)\n",
        "valor_Minimo = min(tupla)\n",
        "\n",
        "print(\"valor maximo da tupla:\", valor_Maximo)\n",
        "print(\"valor minimo da tupla:\", valor_Minimo)\n"
      ]
    },
    {
      "cell_type": "markdown",
      "metadata": {
        "id": "BaCwt9hTrafF"
      },
      "source": [
        "### Dicionários"
      ]
    },
    {
      "cell_type": "markdown",
      "metadata": {
        "id": "lSpj33z39Wej"
      },
      "source": [
        "21 - A partir do dicionário inicializado abaixo com quatro items, adicione três novos items com chaves \"three\", \"four\" e \"five\" e valores \"três\", \"quatro\" e \"cinco\"."
      ]
    },
    {
      "cell_type": "code",
      "execution_count": 9,
      "metadata": {
        "collapsed": true,
        "id": "3Bomk_PZ9W2g"
      },
      "outputs": [
        {
          "name": "stdout",
          "output_type": "stream",
          "text": [
            "{'one': 'um', 'two': 'dois', (1, 2): ['um', 'dois'], 1.3: 'um ponto três', 'three': 'três', 'four': 'quatro', 'five': 'cinco'}\n"
          ]
        }
      ],
      "source": [
        "my_dict = {}\n",
        "my_dict[\"one\"] = \"um\"\n",
        "my_dict[\"two\"] = \"dois\"\n",
        "my_dict[(1,2)] = [\"um\",\"dois\"]\n",
        "my_dict[1.3] = \"um ponto três\"\n",
        "\n",
        "my_dict[\"three\"] = \"três\"\n",
        "my_dict[\"four\"] = \"quatro\"\n",
        "my_dict[\"five\"] = \"cinco\"\n",
        "\n",
        "print(my_dict)"
      ]
    },
    {
      "cell_type": "markdown",
      "metadata": {
        "id": "3fK7_FZBlupk"
      },
      "source": [
        "22 - A partir do dicionário definido anteriormente, remova o item (\"one\", \"um\") do dicionário."
      ]
    },
    {
      "cell_type": "code",
      "execution_count": 12,
      "metadata": {
        "collapsed": true,
        "id": "7ZYsRud5lupl"
      },
      "outputs": [
        {
          "name": "stdout",
          "output_type": "stream",
          "text": [
            "{'two': 'dois', (1, 2): ['um', 'dois'], 'three': 'três', 'four': 'quatro', 'five': 'cinco'}\n"
          ]
        }
      ],
      "source": [
        "# Insira a resposta abaixo\n",
        "my_dict = {\n",
        "    \"one\":\"um\",\n",
        "    \"two\":\"dois\",\n",
        "    (1,2):[\"um\", \"dois\"],\n",
        "    \"three\":\"três\",\n",
        "    \"four\":\"quatro\",\n",
        "    \"five\":\"cinco\"\n",
        "}\n",
        "\n",
        "del my_dict[\"one\"]\n",
        "print(my_dict)"
      ]
    },
    {
      "cell_type": "markdown",
      "metadata": {
        "id": "Pl1J-LIM9XHl"
      },
      "source": [
        "23 - A partir do dicionário definido anteriormente, realize as seguintes operações ordenadamente.\n",
        "\n",
        "1.   Exiba a quantidade de items do dicionário.\n",
        "2.   Gere automaticamente uma lista contendo as  chaves do dicionário.\n",
        "3.   Gere automaticamente uma lista contendo os valores do dicionário.\n",
        "4.   Gere automaticamente uma lista composta por tuplas do tipo (chave, valor).\n",
        "5.   Remova os items cuja chaves são (1,2) e 1.3.\n",
        "6.   Exiba o dicionário final\n",
        "\n",
        "\n",
        "\n",
        "\n",
        "\n"
      ]
    },
    {
      "cell_type": "code",
      "execution_count": 18,
      "metadata": {},
      "outputs": [
        {
          "name": "stdout",
          "output_type": "stream",
          "text": [
            "Quantidade de items no dicionário: 7\n",
            "lista de chaves: ['one', 'two', (1, 2), 'three', 'four', 'five']\n",
            "lista de valores: ['um', 'dois', ['um', 'dois'], 'um ponto três', 'três', 'quatro', 'cinco']\n",
            "lista de tupla(chave, valor): [('one', 'um'), ('two', 'dois'), ((1, 2), ['um', 'dois']), (1.3, 'um ponto três'), ('three', 'três'), ('four', 'quatro'), ('five', 'cinco')]\n",
            "dicionário final após remoção: {'one': 'um', 'two': 'dois', 'three': 'três', 'four': 'quatro', 'five': 'cinco'}\n"
          ]
        }
      ],
      "source": [
        "my_dict = {\n",
        "    \"one\": \"um\",\n",
        "    \"two\": \"dois\",\n",
        "    (1, 2): [\"um\", \"dois\"],\n",
        "    1.3: \"um ponto três\",\n",
        "    \"three\": \"três\",\n",
        "    \"four\": \"quatro\",\n",
        "    \"five\": \"cinco\"\n",
        "}\n",
        "\n",
        "quantidade = len(my_dict)\n",
        "print(\"Quantidade de items no dicionário:\", quantidade)\n",
        "\n",
        "chave = list(my_dict.keys())\n",
        "print(\"lista de chaves:\", chaves)\n",
        "\n",
        "valores = list(my_dict.values())\n",
        "print(\"lista de valores:\", valores)\n",
        "\n",
        "tupla = list(my_dict.items())\n",
        "print(\"lista de tupla(chave, valor):\", tupla)\n",
        "\n",
        "del my_dict[(1, 2)]\n",
        "del my_dict[1.3]\n",
        "\n",
        "print(\"dicionário final após remoção:\", my_dict)"
      ]
    },
    {
      "cell_type": "markdown",
      "metadata": {
        "id": "iNDUUfFPqNsC"
      },
      "source": [
        "24 - A partir dos dicionários '*en*' e '*pt_br*' definidos abaixo, crie um terceiro dicionário denominado '*translator*' cujas chaves são, respectivamente, 'en' e 'pt_br' e os valores sejam os dicionários correspondentes. Exiba o dicionário criado."
      ]
    },
    {
      "cell_type": "code",
      "execution_count": 20,
      "metadata": {
        "collapsed": true,
        "id": "iIv7lR8zqNy1"
      },
      "outputs": [
        {
          "name": "stdout",
          "output_type": "stream",
          "text": [
            "{'en': {'hello': 'olá', 'apple': 'maçã', 'house': 'casa'}, 'pt_br': {' olá': 'hello', 'maçã': 'apple', 'casa': 'house'}}\n"
          ]
        }
      ],
      "source": [
        "pt_br = {1:\"um\", 2:\"dois\", 3:\"tres\"}\n",
        "en = {1:\"one\", 2:\"two\", 3:\"three\"}\n",
        "\n",
        "# Insira a resposta abaixo\n",
        "english = {'hello': 'olá', 'apple': 'maçã', 'house': 'casa'}\n",
        "pt_br={ ' olá':'hello', 'maçã':'apple', 'casa':'house'}\n",
        "\n",
        "translator = {'en': english, 'pt_br': pt_br}\n",
        "\n",
        "print(translator)"
      ]
    },
    {
      "cell_type": "markdown",
      "metadata": {
        "id": "cK-nN01LpxwW"
      },
      "source": [
        "### Estruturas de Decisão"
      ]
    },
    {
      "cell_type": "markdown",
      "metadata": {
        "id": "PDkLty8ayY9p"
      },
      "source": [
        "25 - Utilize estruturas de decisão se-senão para construir um script que simule a árvore de decisão disposta na figura abaixo. Para cada nó da árvore, o usuário deve fornecer um valor a ser armazenado em uma variável e utilizado para verificar o fluxo que deve ser seguido até atingir uma das folha, exibindo algum dos valores \"Opção 1\", \"Opção 2\" ou \"Opção 3\".\n",
        "\n",
        "\n",
        "![alt text](https://docs.google.com/uc?export=download&id=1i5518GVTI9vh3proj3C1dblBXOJtHAvP)"
      ]
    },
    {
      "cell_type": "code",
      "execution_count": null,
      "metadata": {
        "collapsed": true,
        "id": "YjVkjZGCyZAi"
      },
      "outputs": [],
      "source": []
    },
    {
      "cell_type": "markdown",
      "metadata": {
        "id": "b-Td-fgNp2HM"
      },
      "source": [
        "### Estruturas de Repetição\n",
        "\n",
        "for (with range), while, list comprehension"
      ]
    },
    {
      "cell_type": "markdown",
      "metadata": {
        "id": "mIhOW0di8iZh"
      },
      "source": [
        "26 - Crie um programa que receba do usuário uma entrada referente a string \"Please, type 'q' to quit\". Enquanto o usuário não digitar o caractere 'q', o programa deve exibir \"Sorry, try again.\" e continuar solicitando a informação. Dica: utilize o comando break para interrupção."
      ]
    },
    {
      "cell_type": "code",
      "execution_count": 21,
      "metadata": {
        "collapsed": true,
        "id": "BKxPv3BB8ihm"
      },
      "outputs": [],
      "source": [
        "while True\n",
        "    entrada = input(\"Por favor, digite 'q' para sair: \")\n",
        "    if entrada == 'q':\n",
        "        break\n",
        "    else:\n",
        "        print(\"Desculpe, tente novamente.\")\n"
      ]
    },
    {
      "cell_type": "markdown",
      "metadata": {
        "id": "nnA67LDY8iqI"
      },
      "source": [
        "27 - Crie um programa que imprima apenas os números ímpares entre 1 e 100."
      ]
    },
    {
      "cell_type": "code",
      "execution_count": 30,
      "metadata": {
        "collapsed": true,
        "id": "2_x3vAUe8izO"
      },
      "outputs": [],
      "source": [
        "# Insira a resposta abaixo.\n"
      ]
    },
    {
      "cell_type": "markdown",
      "metadata": {
        "id": "m0QJ9fIe7rOl"
      },
      "source": [
        "28 - A partir da lista definida abaixo, crie uma nova lista contendo apenas os números negativos. Dica: considere utilizar o modo list comprehension."
      ]
    },
    {
      "cell_type": "code",
      "execution_count": 31,
      "metadata": {
        "collapsed": true,
        "id": "CHAeZEOw7rWc"
      },
      "outputs": [],
      "source": [
        "lista = [-6, 21, -22, 4, -17, -21, 22, -11, 3, 28]\n",
        "# Insira a resposta abaixo.\n"
      ]
    },
    {
      "cell_type": "markdown",
      "metadata": {
        "id": "U_aYQhC5LPXi"
      },
      "source": [
        "29 - Converta a string definida abaixo em uma lista de palavras. Em seguida, crie um dicionário cujas chaves são as palavras contidas no texto e os valores representem a quantidade de ocorrências da palavra em questão.\n",
        "\n",
        "\n"
      ]
    },
    {
      "cell_type": "code",
      "execution_count": 32,
      "metadata": {
        "collapsed": true,
        "id": "EW3G73kBLQD_"
      },
      "outputs": [],
      "source": [
        "texto = '''\n",
        "Lorem ipsum dolor sit amet, consectetur adipiscing elit. Maecenas maximus consequat libero sed eleifend. Mauris pulvinar quam pharetra\n",
        "est efficitur maximus. Mauris tincidunt neque cursus ante vehicula viverra. Nullam neque neque, lobortis ut lacinia in, euismod non purus.\n",
        "Quisque egestas pellentesque nulla eget egestas. In sem felis, pellentesque bibendum hendrerit varius, dapibus blandit libero. Nunc\n",
        "fermentum id risus vel suscipit. Aenean laoreet posuere purus ac viverra. Sed vitae sem finibus, tempor magna a, iaculis ex. Pellentesque\n",
        "sit amet scelerisque purus, quis volutpat ante. Lorem ipsum dolor sit amet, consectetur adipiscing elit. Nulla cursus est metus, vitae\n",
        "molestie elit porta a. Praesent pharetra odio id purus auctor porttitor a ut risus. Lorem ipsum dolor sit amet, consectetur adipiscing elit.\n",
        "'''\n",
        "# Insira a resposota abaixo.\n"
      ]
    },
    {
      "cell_type": "markdown",
      "metadata": {
        "id": "KEmS5Nr-otZR"
      },
      "source": [
        "30 - Imprima o dicionário gerado no passo anterior seguindo uma ordem alfabética.\n",
        "\n",
        "Dicas:\n",
        "1. Python já possui uma função built-in ordenação de listas\n",
        "2. É possível utilizar uma estrutura de repetição para construir um novo dicionário."
      ]
    },
    {
      "cell_type": "code",
      "execution_count": 33,
      "metadata": {
        "collapsed": true,
        "id": "dcPK7SXzotiB"
      },
      "outputs": [],
      "source": [
        "# Insira a resposta abaixo.\n"
      ]
    },
    {
      "cell_type": "markdown",
      "metadata": {
        "id": "ix_iQWRj21d-"
      },
      "source": [
        "31 - Na lista 'colors' definida abaixo têm-se três tipos diferentes de cores. A partir dela, crie uma nova lista na qual cada string deve assumir uma lista com valores inteiros seguindo uma estratégia binária da seguinte forma:\n",
        "\n",
        "```\n",
        "red,\tgreen,\tblue\n",
        "[1,\t\t0,\t\t0]\n",
        "[0,\t\t1,\t\t0]\n",
        "[0,\t\t0,\t\t1]\n",
        "\n",
        "```\n",
        "\n",
        "Dica: crie uma lista com os três possíveis valores e utilize a posição do elemento.\n",
        "\n"
      ]
    },
    {
      "cell_type": "code",
      "execution_count": 34,
      "metadata": {
        "collapsed": true,
        "id": "h9lQSh8w21pI"
      },
      "outputs": [],
      "source": [
        "colors = ['blue', 'blue', 'green', 'blue', 'red', 'red', 'green', 'blue', 'green', 'red']\n",
        "\n",
        "# Insira a resposta abaixo\n"
      ]
    },
    {
      "cell_type": "markdown",
      "metadata": {
        "id": "BWeuTJxZpOuG"
      },
      "source": [
        "32 - A partir da lista resultante da questão imediatamente anterior,  reverta o processo e retorne uma lista contendo as strings 'blue', 'green' e 'red'."
      ]
    },
    {
      "cell_type": "code",
      "execution_count": 35,
      "metadata": {
        "collapsed": true,
        "id": "C12-oQ27pO8x"
      },
      "outputs": [],
      "source": [
        "# Insira a resposta abaixo\n"
      ]
    }
  ],
  "metadata": {
    "colab": {
      "provenance": []
    },
    "kernelspec": {
      "display_name": "Python 3 (ipykernel)",
      "language": "python",
      "name": "python3"
    },
    "language_info": {
      "codemirror_mode": {
        "name": "ipython",
        "version": 3
      },
      "file_extension": ".py",
      "mimetype": "text/x-python",
      "name": "python",
      "nbconvert_exporter": "python",
      "pygments_lexer": "ipython3",
      "version": "3.11.4"
    }
  },
  "nbformat": 4,
  "nbformat_minor": 0
}
